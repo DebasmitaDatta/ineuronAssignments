{
 "cells": [
  {
   "cell_type": "markdown",
   "metadata": {},
   "source": [
    "1.1 Write a Python Program(with class concepts) to find the area of the triangle using the below\n",
    "formula.\n",
    "area = (s*(s-a)*(s-b)*(s-c)) ** 0.5\n",
    "Function to take the length of the sides of triangle from user should be defined in the parent\n",
    "class and function to calculate the area should be defined in subclass"
   ]
  },
  {
   "cell_type": "code",
   "execution_count": 13,
   "metadata": {},
   "outputs": [
    {
     "name": "stdout",
     "output_type": "stream",
     "text": [
      "Enter no. of sides of polygon:  3\n",
      "Please enter 1 no. side of polygon : 4\n",
      "Please enter 2 no. side of polygon : 5\n",
      "Please enter 3 no. side of polygon : 6\n",
      "The sides of the polygon are: 4,5,6 and the Semiperimeter of the given polygon is 7.5\n",
      "Area of triangle is 98.4375 Sq. Unit\n"
     ]
    }
   ],
   "source": [
    "class Polygon():\n",
    "    def __init__(self,n , lst_sides):\n",
    "        self.n =n\n",
    "        self.lst_sides = lst_sides\n",
    "    \n",
    "    \n",
    "    def semiperimeter(self):\n",
    "        s = sum(self.lst_sides)/2\n",
    "        return s\n",
    "    \n",
    "    def __str__(self):\n",
    "        return (f\"The sides of the polygon are: {','.join(str(i) for i in self.lst_sides)} and the Semiperimeter of the given polygon is {self.semiperimeter()}\")\n",
    "    \n",
    "class Triangle(Polygon):\n",
    "    def __init__(self, *args):\n",
    "        super(Triangle , self).__init__(*args)\n",
    "    \n",
    "    def area_of_triangle(self):\n",
    "        self.semiperimeter()\n",
    "        semi_perimeter =self.semiperimeter()\n",
    "        return (f\"Area of triangle is {semi_perimeter*(semi_perimeter-self.lst_sides[0])*(semi_perimeter-self.lst_sides[1])*(semi_perimeter-self.lst_sides[2])} Sq. Unit\")\n",
    "        \n",
    "lst1 = []\n",
    "n = int(input(\"Enter no. of sides of polygon:  \"))\n",
    "for i in range(1,n+1):\n",
    "    side = int(input(f\"Please enter {i} no. side of polygon : \"))\n",
    "    lst1.append(side)\n",
    "\n",
    "triangle2=Triangle(n,lst1)\n",
    "print(triangle2)\n",
    "print(triangle2.area_of_triangle())"
   ]
  },
  {
   "cell_type": "markdown",
   "metadata": {},
   "source": [
    "1.2 Write a function filter_long_words() that takes a list of words and an integer n and returns\n",
    "the list of words that are longer than n."
   ]
  },
  {
   "cell_type": "code",
   "execution_count": 10,
   "metadata": {},
   "outputs": [
    {
     "name": "stdout",
     "output_type": "stream",
     "text": [
      "Enter N value:  3\n"
     ]
    },
    {
     "data": {
      "text/plain": [
       "['crow', 'elephant', 'duck']"
      ]
     },
     "execution_count": 10,
     "metadata": {},
     "output_type": "execute_result"
    }
   ],
   "source": [
    "def filter_long_words(lst , n):\n",
    "     return[words for words in lst if len(words)>n]\n",
    "\n",
    "n = int(input (\"Enter N value:  \"))\n",
    "filter_long_words([\"Dog\" , \"ant\" ,\"crow\" ,\"elephant\" , \"duck\" , \"cat\"],n)"
   ]
  },
  {
   "cell_type": "markdown",
   "metadata": {},
   "source": [
    "2.1 Write a Python program using function concept that maps list of words into a list of integers\n",
    "representing the lengths of the corresponding words.\n",
    "Hint: If a list [ ab,cde,erty] is passed on to the python function output should come as [2,3,4]\n",
    "Here 2,3 and 4 are the lengths of the words in the list.\n"
   ]
  },
  {
   "cell_type": "code",
   "execution_count": 8,
   "metadata": {},
   "outputs": [
    {
     "data": {
      "text/plain": [
       "[9, 6, 5, 6]"
      ]
     },
     "execution_count": 8,
     "metadata": {},
     "output_type": "execute_result"
    }
   ],
   "source": [
    "def word_map(lst_word):\n",
    "    return [len(word) for word in lst_word]\n",
    "\n",
    "word_map([\"PineApple\",\"orange\",\"apple\",\"Grapes\"])\n"
   ]
  },
  {
   "cell_type": "markdown",
   "metadata": {},
   "source": [
    "2.2 Write a Python function which takes a character (i.e. a string of length 1) and returns True if\n",
    "it is a vowel, False otherwise.\n"
   ]
  },
  {
   "cell_type": "code",
   "execution_count": 12,
   "metadata": {},
   "outputs": [
    {
     "name": "stdout",
     "output_type": "stream",
     "text": [
      "Enter any alphabet:  h\n"
     ]
    },
    {
     "data": {
      "text/plain": [
       "False"
      ]
     },
     "execution_count": 12,
     "metadata": {},
     "output_type": "execute_result"
    }
   ],
   "source": [
    "def vowel_check(alphabet):\n",
    "    if len(alphabet) == 1:\n",
    "        if alphabet in [\"a\",\"e\",\"i\",\"o\",\"u\",\"A\",\"E\",\"I\",\"O\",\"u\"]:\n",
    "            return True\n",
    "        else:\n",
    "            return False\n",
    "        \n",
    "alphabet = input(\"Enter any alphabet:  \")\n",
    "vowel_check(alphabet)\n",
    "      "
   ]
  }
 ],
 "metadata": {
  "kernelspec": {
   "display_name": "Python 3",
   "language": "python",
   "name": "python3"
  },
  "language_info": {
   "codemirror_mode": {
    "name": "ipython",
    "version": 3
   },
   "file_extension": ".py",
   "mimetype": "text/x-python",
   "name": "python",
   "nbconvert_exporter": "python",
   "pygments_lexer": "ipython3",
   "version": "3.8.3"
  }
 },
 "nbformat": 4,
 "nbformat_minor": 4
}
